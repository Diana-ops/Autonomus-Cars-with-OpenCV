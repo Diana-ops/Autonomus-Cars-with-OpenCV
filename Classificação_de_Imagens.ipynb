{
  "nbformat": 4,
  "nbformat_minor": 0,
  "metadata": {
    "colab": {
      "name": "Classificação de Imagens.ipynb",
      "provenance": [],
      "collapsed_sections": [],
      "include_colab_link": true
    },
    "kernelspec": {
      "name": "python3",
      "display_name": "Python 3"
    }
  },
  "cells": [
    {
      "cell_type": "markdown",
      "metadata": {
        "id": "view-in-github",
        "colab_type": "text"
      },
      "source": [
        "<a href=\"https://colab.research.google.com/github/Diana-ops/diananeri/blob/master/Classifica%C3%A7%C3%A3o_de_Imagens.ipynb\" target=\"_parent\"><img src=\"https://colab.research.google.com/assets/colab-badge.svg\" alt=\"Open In Colab\"/></a>"
      ]
    },
    {
      "cell_type": "markdown",
      "metadata": {
        "id": "gyzSX4UtgZYE",
        "colab_type": "text"
      },
      "source": [
        "# Classificação de Gatos e Cachorros com Redes Neurais Convolucionais (CNN)\n",
        "\n",
        "Diferenciar gatos e cachorros é algo que fazemos desde criança, mas não é uma habilidade inata (até porque, uma das poucas coisas que sabemos fazer ao nascer é chorar e comer). O que acontece, é que enquanto estamos crescendo vemos gatos e cachorros na TV, escola, rua e até mesmo em casa, então quando começamos a falar até já sabemos falar _o que é cachorro e o que é gato_. \n",
        "\n",
        "![](https://www.doctum.edu.br/wp-content/uploads/2017/11/quiz_gato_ou_cao.jpg)\n",
        "\n",
        "_Fonte da Imagem: https://www.doctum.edu.br/wp-content/uploads/2017/11/quiz_gato_ou_cao.jpg_\n",
        "\n",
        "Esse processo de vê-los e associa-los como um ou outro pode ser chamado de **aprendizado**, e quando já sebemos qual é qual chamamos de **validação**.\n",
        "\n",
        "Na verdade, até hoje fazemos isso com tudo na vida e não só com animais de estimação. No transito por exemplo, é comum termos que diferenciar carros de caminhão, bicicletas, pedestres e outros, pois dependendo que está a nossa frente tomaremos **dicisões diferentes**. \n",
        "\n",
        "Para construir **carros autonomos**, é necessário desenvolver um sistema que também tenha essa capacidade. Portanto, começaremos a fazer isso neste artigo, isto é, realizando uma pequena aplicação capaz de aprender a diferenciar esses elementos. \n"
      ]
    },
    {
      "cell_type": "markdown",
      "metadata": {
        "id": "DgP36Mw5itSp",
        "colab_type": "text"
      },
      "source": [
        "Para realizar essa aplicação, utilizaremos: \n",
        "1. Python 3.6.9\n",
        "2. Google Drive\n",
        "3. Biblioteca Tensorflow\n",
        "4. _Dataset_ das imagens para treinamento: https://www.kaggle.com/c/dogs-vs-cats"
      ]
    },
    {
      "cell_type": "markdown",
      "metadata": {
        "id": "FtCbQO6bj8LI",
        "colab_type": "text"
      },
      "source": [
        "## 1. Baixando o _Dataset_ do Kaggle no Google Drive \n",
        "\n",
        "O **Kaggle** é uma plataforma que possui _datasets_ sobre diversos temas como governo, esportes, comida, sociedade e outros, sendo utilizados para trabalhar com ciencia de dados e aprendizado de maquina. Também é possível participar de competições para solucinar problemas que envolve essas áreas. É nesta plataforma que encontraremos as imagens dos gatos e cachorros. \n",
        "\n",
        "O **Google Drive** é um recurso do google para amazenamento de dados na nuvem, sendo possível baixar o _dataset_ nele e utiliza-lo aqui no **Google Colab** para realizar o processamento. \n",
        "\n",
        "\n"
      ]
    },
    {
      "cell_type": "markdown",
      "metadata": {
        "id": "1JLgG3HfnD9K",
        "colab_type": "text"
      },
      "source": [
        "Primeiro, vamos fazer a conexão com o google drive. Ao executar a célula seguinte, clique no link, entre em uma conta no drive, copie o código que será gerado e cole na caixa aqui abaixo. "
      ]
    },
    {
      "cell_type": "code",
      "metadata": {
        "id": "JyNvYhN33Z6B",
        "colab_type": "code",
        "outputId": "d294b3f4-1c5d-4cbd-e545-0c5b0dfa78cd",
        "colab": {
          "base_uri": "https://localhost:8080/",
          "height": 122
        }
      },
      "source": [
        "from google.colab import drive\n",
        "drive.mount('/content/gdrive')"
      ],
      "execution_count": 1,
      "outputs": [
        {
          "output_type": "stream",
          "text": [
            "Go to this URL in a browser: https://accounts.google.com/o/oauth2/auth?client_id=947318989803-6bn6qk8qdgf4n4g3pfee6491hc0brc4i.apps.googleusercontent.com&redirect_uri=urn%3aietf%3awg%3aoauth%3a2.0%3aoob&response_type=code&scope=email%20https%3a%2f%2fwww.googleapis.com%2fauth%2fdocs.test%20https%3a%2f%2fwww.googleapis.com%2fauth%2fdrive%20https%3a%2f%2fwww.googleapis.com%2fauth%2fdrive.photos.readonly%20https%3a%2f%2fwww.googleapis.com%2fauth%2fpeopleapi.readonly\n",
            "\n",
            "Enter your authorization code:\n",
            "··········\n",
            "Mounted at /content/gdrive\n"
          ],
          "name": "stdout"
        }
      ]
    },
    {
      "cell_type": "markdown",
      "metadata": {
        "id": "zelDhwFon1F3",
        "colab_type": "text"
      },
      "source": [
        "Para baixar uma base de dados, é necessário ter uma conta no site (https://www.kaggle.com/). \n",
        "\n",
        "Ao criar a conta, vá em: **\"My Account\" >> \"Create New API Token\"**. Em seguida, um arquivo \"kaggle.json\" será automaticamente carregado em sua máquina e ele deverá ser extraido após a execução da célula abaixo:"
      ]
    },
    {
      "cell_type": "code",
      "metadata": {
        "id": "hAnTw3M3O1To",
        "colab_type": "code",
        "outputId": "fea44791-fdcf-4096-fef9-c6ba474f56f4",
        "colab": {
          "resources": {
            "http://localhost:8080/nbextensions/google.colab/files.js": {
              "data": "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",
              "ok": true,
              "headers": [
                [
                  "content-type",
                  "application/javascript"
                ]
              ],
              "status": 200,
              "status_text": ""
            }
          },
          "base_uri": "https://localhost:8080/",
          "height": 91
        }
      },
      "source": [
        "from google.colab import files\n",
        "files.upload()  #Selecione o arquivo \"kaggle.json\""
      ],
      "execution_count": 0,
      "outputs": [
        {
          "output_type": "display_data",
          "data": {
            "text/html": [
              "\n",
              "     <input type=\"file\" id=\"files-516d5a7b-5e98-4006-8161-2f51adb3c3d1\" name=\"files[]\" multiple disabled />\n",
              "     <output id=\"result-516d5a7b-5e98-4006-8161-2f51adb3c3d1\">\n",
              "      Upload widget is only available when the cell has been executed in the\n",
              "      current browser session. Please rerun this cell to enable.\n",
              "      </output>\n",
              "      <script src=\"/nbextensions/google.colab/files.js\"></script> "
            ],
            "text/plain": [
              "<IPython.core.display.HTML object>"
            ]
          },
          "metadata": {
            "tags": []
          }
        },
        {
          "output_type": "stream",
          "text": [
            "Saving kaggle.json to kaggle.json\n"
          ],
          "name": "stdout"
        },
        {
          "output_type": "execute_result",
          "data": {
            "text/plain": [
              "{'kaggle.json': b'{\"username\":\"dianargn\",\"key\":\"d29b53fb0a50d2c7252949a9f14bd9a5\"}'}"
            ]
          },
          "metadata": {
            "tags": []
          },
          "execution_count": 3
        }
      ]
    },
    {
      "cell_type": "markdown",
      "metadata": {
        "id": "5H6J489aPs9s",
        "colab_type": "text"
      },
      "source": [
        "Execute a célula abaixo: "
      ]
    },
    {
      "cell_type": "code",
      "metadata": {
        "id": "YoYb6yt7U12f",
        "colab_type": "code",
        "outputId": "a2788fee-8bec-47df-de2c-aeac99bc3b96",
        "colab": {
          "base_uri": "https://localhost:8080/",
          "height": 34
        }
      },
      "source": [
        "!pip install -q kaggle \n",
        "!mkdir -p ~/.kaggle \n",
        "!cp kaggle.json ~/.kaggle/\n",
        "!ls ~/.kaggle\n",
        "!chmod 600 /root/.kaggle/kaggle.json  "
      ],
      "execution_count": 0,
      "outputs": [
        {
          "output_type": "stream",
          "text": [
            "kaggle.json\n"
          ],
          "name": "stdout"
        }
      ]
    },
    {
      "cell_type": "markdown",
      "metadata": {
        "id": "GMAHD7xqTnl5",
        "colab_type": "text"
      },
      "source": [
        "Para baixar qualquer dataset do Kaggle, entre na janela correspondente (no nosso caso seria: https://www.kaggle.com/c/dogs-vs-cats), depois em **data** e copie o **link ao lado de API**.\n",
        "\n",
        "Para baixar especificamente o _dataset_ com as imagens dos gatos e cachorros execute a célula abaixo: "
      ]
    },
    {
      "cell_type": "code",
      "metadata": {
        "id": "qgCiVJbYG33c",
        "colab_type": "code",
        "outputId": "af57f5e5-8a36-4973-e85b-5c6ae71a6965",
        "colab": {
          "base_uri": "https://localhost:8080/",
          "height": 221
        }
      },
      "source": [
        "!kaggle competitions download -c dogs-vs-cats -p /content/gdrive/My\\ Drive/kaggle/dogscats "
      ],
      "execution_count": 0,
      "outputs": [
        {
          "output_type": "stream",
          "text": [
            "shell-init: error retrieving current directory: getcwd: cannot access parent directories: No such file or directory\n",
            "sh: 0: getcwd() failed: No such file or directory\n",
            "Warning: Looks like you're using an outdated API Version, please consider updating (server 1.5.6 / client 1.5.4)\n",
            "Downloading train.zip to /content/gdrive/My Drive/kaggle/dogscats\n",
            " 98% 530M/543M [00:04<00:00, 117MB/s]\n",
            "100% 543M/543M [00:04<00:00, 119MB/s]\n",
            "Downloading sampleSubmission.csv to /content/gdrive/My Drive/kaggle/dogscats\n",
            "  0% 0.00/86.8k [00:00<?, ?B/s]\n",
            "100% 86.8k/86.8k [00:00<00:00, 11.4MB/s]\n",
            "Downloading test1.zip to /content/gdrive/My Drive/kaggle/dogscats\n",
            " 98% 267M/271M [00:02<00:00, 111MB/s]\n",
            "100% 271M/271M [00:02<00:00, 108MB/s]\n"
          ],
          "name": "stdout"
        }
      ]
    },
    {
      "cell_type": "markdown",
      "metadata": {
        "id": "inZGMa3D0q3X",
        "colab_type": "text"
      },
      "source": [
        "Execute a célula abaixo para criar os diretórios que armazenarão as imagens "
      ]
    },
    {
      "cell_type": "code",
      "metadata": {
        "id": "gYKfkYuxKo-g",
        "colab_type": "code",
        "colab": {}
      },
      "source": [
        "import os\n",
        "os.chdir('/content/gdrive/My Drive/kaggle/dogscats')  #change dir\n",
        "if not os.path.exists(\"treino\"):\n",
        "  os.mkdir(\"treino\")  #Cria um diretório chamado treino\n",
        "\n",
        "if not os.path.exists(\"teste\"):\n",
        "  os.mkdir(\"treino\")  #Cria um diretório chamado teste\n",
        "\n",
        "if not os.path.exists(\"valida\"):\n",
        "  os.mkdir(\"valida\")  #Cria um diretório chamado valida"
      ],
      "execution_count": 0,
      "outputs": []
    },
    {
      "cell_type": "markdown",
      "metadata": {
        "id": "LVYT8mYY02nh",
        "colab_type": "text"
      },
      "source": [
        "Execute a célula abaixo para desempacotar o _dataset_ e armazenar nos diretórios "
      ]
    },
    {
      "cell_type": "code",
      "metadata": {
        "id": "tOXcRDh8P51g",
        "colab_type": "code",
        "colab": {}
      },
      "source": [
        "!unzip -q train.zip -d treino/  #desempacota para o diretório \"treino\"\n",
        "!unzip -q test1.zip -d teste/  #desempacota para o diretório \"teste\""
      ],
      "execution_count": 0,
      "outputs": []
    },
    {
      "cell_type": "markdown",
      "metadata": {
        "id": "X9eIZA5mkdrI",
        "colab_type": "text"
      },
      "source": [
        "### 2. Preparando o _Dataset_ para a partir das imagens "
      ]
    },
    {
      "cell_type": "code",
      "metadata": {
        "id": "Cud1xAFw9Kux",
        "colab_type": "code",
        "outputId": "622877aa-6d62-474e-eebe-72a47f81ab2b",
        "colab": {
          "base_uri": "https://localhost:8080/",
          "height": 80
        }
      },
      "source": [
        "# Bibliotecas para a construção e uso da RNA \n",
        "import tensorflow.compat.v1 as tf \n",
        "import keras \n",
        "import keras.backend as K\n",
        "from keras.layers import Dense, Conv2D, Input, MaxPooling2D, Flatten, Dropout\n",
        "from keras.models import Model\n",
        "from keras.datasets import fashion_mnist\n",
        "from keras.callbacks import ModelCheckpoint\n",
        "from keras.preprocessing import image\n",
        "\n",
        "# Outras Bibliotecas \n",
        "from google.colab.patches import cv2_imshow\n",
        "import numpy as np \n",
        "import random, os\n",
        "import matplotlib.pyplot as plt \n",
        "from matplotlib import cm\n",
        "import cv2 \n",
        "\n",
        "%matplotlib inline"
      ],
      "execution_count": 2,
      "outputs": [
        {
          "output_type": "display_data",
          "data": {
            "text/html": [
              "<p style=\"color: red;\">\n",
              "The default version of TensorFlow in Colab will soon switch to TensorFlow 2.x.<br>\n",
              "We recommend you <a href=\"https://www.tensorflow.org/guide/migrate\" target=\"_blank\">upgrade</a> now \n",
              "or ensure your notebook will continue to use TensorFlow 1.x via the <code>%tensorflow_version 1.x</code> magic:\n",
              "<a href=\"https://colab.research.google.com/notebooks/tensorflow_version.ipynb\" target=\"_blank\">more info</a>.</p>\n"
            ],
            "text/plain": [
              "<IPython.core.display.HTML object>"
            ]
          },
          "metadata": {
            "tags": []
          }
        },
        {
          "output_type": "stream",
          "text": [
            "Using TensorFlow backend.\n"
          ],
          "name": "stderr"
        }
      ]
    },
    {
      "cell_type": "markdown",
      "metadata": {
        "id": "hGPDtjRY11rc",
        "colab_type": "text"
      },
      "source": [
        "Ao executar a célula abaixo, as imagens serão armazenadas na lista \"treino\" e a partir do nome dessa imagem será inserido o valor 0 na lista \"y_treino\" caso ela seja corresponde a um gato, ou 1, caso seja correspondente a um cachorro. \n",
        "\n",
        "É posível controlar a quantidade de dados que será utilizado no treinamento da rede a partir da variável \"tan_dat\"."
      ]
    },
    {
      "cell_type": "code",
      "metadata": {
        "id": "c_4b6g6tP11J",
        "colab_type": "code",
        "colab": {
          "base_uri": "https://localhost:8080/",
          "height": 34
        },
        "outputId": "62ab1896-b356-4c5b-a00c-a5693ae2849b"
      },
      "source": [
        "treino, y_treino = [], []\n",
        "n = 20\n",
        "\n",
        "#Acesso ao diretório \n",
        "dir_treino = os.listdir('/content/gdrive/My Drive/kaggle/dogscats/treino/train')\n",
        "\n",
        "#Construindo uma lista com os dados de entrada e saida da rede \n",
        "\n",
        "\"\"\"\n",
        "O terceiro parametro irá dividr o nosso dataset em n vezes,\n",
        "mas vale lembrar que quanto mais imagens forem fornecidas melhor será o treinamento da rede,\n",
        "no entanto, o tempo de processamento será maior\n",
        "\"\"\"\n",
        "for i in range(0, len(dir_treino), n):\n",
        "  if \"cat.\" in dir_treino[i]:\n",
        "    treino.append(dir_treino[i])\n",
        "    y_treino.append(0) #Saída 0 - Gatos \n",
        "\n",
        "  if \"dog.\" in dir_treino[i]:\n",
        "    treino.append(dir_treino[i]) \n",
        "    y_treino.append(1) #Saída 1 - Cachorros "
      ],
      "execution_count": 12,
      "outputs": [
        {
          "output_type": "stream",
          "text": [
            "852\n"
          ],
          "name": "stdout"
        }
      ]
    },
    {
      "cell_type": "markdown",
      "metadata": {
        "id": "vRmjUvds3M46",
        "colab_type": "text"
      },
      "source": [
        "Para as imagens de teste, o _dataset_ fornecido pelo Kaggle as renomeou apenas numricamente, isto é, sem indicar se era um cachorro ou gato. Isso complica um pouco as coisas pois saber a resposta correta dos dados de teste nos ajuda a medir o desempenho da rede. \n",
        "\n",
        "No material desenvolvido por Cleuton Sampaio [1], foi sugerido que o usuário renomeasse essas imagens antes de utiliza-las. O que eu fiz foi criar **manualmente** (isto é, usar código), a criação de 2 diretórios: \"dog\" e \"cat\". Depois, separei 30 imagens de gato e cachorro para elas e em seguida executei a célula a seguir para renomear essas imagens. "
      ]
    },
    {
      "cell_type": "markdown",
      "metadata": {
        "id": "o1OgMVPgW-kZ",
        "colab_type": "text"
      },
      "source": [
        "### Execute esta célula para renomear as imagens dos diretórios \"Dog\" e \"Cat\" que foram criadas"
      ]
    },
    {
      "cell_type": "code",
      "metadata": {
        "id": "AFkUj0Sg3R0L",
        "colab_type": "code",
        "colab": {}
      },
      "source": [
        "dir_teste = os.listdir('/content/gdrive/My Drive/kaggle/dogscats/teste/test1/dog')\n",
        "ca = '/content/gdrive/My Drive/kaggle/dogscats/teste/test1/'\n",
        "for i in range(0, len(dir_teste)):\n",
        "   if not \"dog.\" in dir_teste[i]:\n",
        "     os.rename(ca+\"dog/\"+dir_teste[i], ca+\"dog/dog.\"+dir_teste[i])\n",
        "\n",
        "dir_teste = os.listdir('/content/gdrive/My Drive/kaggle/dogscats/teste/test1/cat')\n",
        "for i in range(0, len(dir_teste)):\n",
        "   if not \"cat.\" in dir_teste[i]:\n",
        "     os.rename(ca+\"cat/\"+dir_teste[i], ca+\"cat/cat.\"+dir_teste[i])"
      ],
      "execution_count": 0,
      "outputs": []
    },
    {
      "cell_type": "markdown",
      "metadata": {
        "id": "XzCHNosl43XT",
        "colab_type": "text"
      },
      "source": [
        "Para deixar as imagens de teste com o mesmo \"padrão\" das de treinamento, **mova as imagens para o diretório '/content/gdrive/My Drive/kaggle/dogscats/teste** e execute a célula abaixo para realizar o mesmo para o treinamento"
      ]
    },
    {
      "cell_type": "code",
      "metadata": {
        "id": "9T85AfdP3Ew3",
        "colab_type": "code",
        "colab": {}
      },
      "source": [
        "dir_teste = os.listdir('/content/gdrive/My Drive/kaggle/dogscats/teste')\n",
        "\n",
        "y_teste, teste = [], [] #Armazena a resposta correta das imagens teste\n",
        "\n",
        "for i in range(0, len(dir_teste)):\n",
        "   if \"dog.\" in dir_teste[i] and dir_teste[i] not in teste:\n",
        "     teste.append(dir_teste[i])\n",
        "     y_teste.append(1)\n",
        "\n",
        "for i in range(0, len(dir_teste)):\n",
        "   if \"cat.\" in dir_teste[i] and dir_teste[i] not in teste:\n",
        "     teste.append(dir_teste[i])\n",
        "     y_teste.append(0)"
      ],
      "execution_count": 0,
      "outputs": []
    },
    {
      "cell_type": "code",
      "metadata": {
        "id": "vesxYTdg9ctW",
        "colab_type": "code",
        "colab": {}
      },
      "source": [
        "batch_sz = 64 # Batch size\n",
        "nb_class = 2  # Número de classes\n",
        "nb_epochs = 10 # Número de epochs de treinamento\n",
        "img_h, img_w = 64, 64 # Altura e largura das imagens\n",
        "caminho = '/content/gdrive/My Drive/kaggle/dogscats'"
      ],
      "execution_count": 0,
      "outputs": []
    },
    {
      "cell_type": "code",
      "metadata": {
        "id": "QehDj_8d9g9d",
        "colab_type": "code",
        "colab": {}
      },
      "source": [
        "def ler_imagem(file):\n",
        "\n",
        "    #Leitura da imagem \n",
        "    img = cv2.imread(file)\n",
        "    \n",
        "    #Converte para escala cinza \n",
        "    gray = cv2.cvtColor(img, cv2.COLOR_BGR2GRAY)\n",
        "\n",
        "    #Muda o tamanho da imagem \n",
        "    imres = cv2.resize(gray, (img_h, img_w), interpolation=cv2.INTER_CUBIC)\n",
        "\n",
        "    #Obtem os pixels da imagem e os insere em uma matriz \n",
        "    imres = image.img_to_array(imres.T)\n",
        "    imres = np.expand_dims(imres, axis = 0)    \n",
        "    return imres"
      ],
      "execution_count": 0,
      "outputs": []
    },
    {
      "cell_type": "code",
      "metadata": {
        "id": "GNY8YiIH9lIW",
        "colab_type": "code",
        "colab": {}
      },
      "source": [
        "def gerar_dataset(path, filenames):\n",
        "\n",
        "    #Cria uma matriz do tamanho da quantidade de imagens encontrado ora no diretorio \n",
        "    dataset = np.ndarray((len(filenames), img_h, img_w, 1), dtype=np.uint8)\n",
        "    x = 0\n",
        "\n",
        "    #Para cada imagem do diretório \n",
        "    for arquivo in filenames:\n",
        "\n",
        "        if \".jpg\" in arquivo: \n",
        "          \n",
        "          #Será armazenado uma matriz de pixels referente a imagem dentro da matriz dataset \n",
        "          dataset[x] = ler_imagem(path+arquivo)\n",
        "\n",
        "        x = x + 1\n",
        "            \n",
        "    #Retornando os dados de entrada e saida da rede (Dataset)\n",
        "    return dataset"
      ],
      "execution_count": 0,
      "outputs": []
    },
    {
      "cell_type": "markdown",
      "metadata": {
        "id": "UDYBfRgLiOPT",
        "colab_type": "text"
      },
      "source": [
        "A rotina **Ler Imagem** faz com que a partir da imagem lida seja gerado uma matriz com os valores de pixels dela. Esta etapa é necessária para que o computador consiga fazer o processamento da imagem matematicamente. Já a rotina **Gerar Dataset** vai fazer com que todas as matrizes que correspondem a cada uma dessas imagens seja armazenado em uma unica lista. \n",
        "\n",
        "![Matriz de Pixels em uma Imagem](https://www.ipma.pt/export/sites/ipma/bin/images.site/educativa/educ_sat_fig_3_31.jpg)\n",
        "\n",
        "_Fonte da Imagem: https://www.ipma.pt/export/sites/ipma/bin/images.site/educativa/educ_sat_fig_3_31.jpg_"
      ]
    },
    {
      "cell_type": "code",
      "metadata": {
        "id": "3JR5LwhfhAmQ",
        "colab_type": "code",
        "outputId": "1a61507a-4187-4a9e-fa59-1d309d199141",
        "colab": {
          "base_uri": "https://localhost:8080/",
          "height": 102
        }
      },
      "source": [
        "# Ao executar essa célula, pode ser que o processamento demore um pouco por conta da quantidade de imagens a serem processadas\n",
        "\n",
        "print(\"Montando dataset de treinamento\")\n",
        "x_treino = gerar_dataset(caminho+'/treino/train/', treino)\n",
        "print()\n",
        "print(\"Quantidade de Entradas: \", len(x_treino))\n",
        "print(\"Quantidade de Imagens de Cachorros: \", y_treino.count(1))\n",
        "print(\"Quantidade de Imagens de Gatos: \", y_treino.count(0))"
      ],
      "execution_count": 13,
      "outputs": [
        {
          "output_type": "stream",
          "text": [
            "Montando dataset de treinamento\n",
            "\n",
            "Quantidade de Entradas:  852\n",
            "Quantidade de Imagens de Cachorros:  227\n",
            "Quantidade de Imagens de Gatos:  625\n"
          ],
          "name": "stdout"
        }
      ]
    },
    {
      "cell_type": "code",
      "metadata": {
        "id": "xpbgSBl9th3f",
        "colab_type": "code",
        "outputId": "31be1971-6e82-43e5-921b-32fe0283393f",
        "colab": {
          "base_uri": "https://localhost:8080/",
          "height": 102
        }
      },
      "source": [
        "print(\"Montando dataset de testes\")\n",
        "x_teste = gerar_dataset(caminho+'/teste/', teste)\n",
        "print()\n",
        "print(\"Quantidade de Entradas: \", len(x_teste))\n",
        "print(\"Quantidade de Imagens de Cachorros: \", y_teste.count(1))\n",
        "print(\"Quantidade de Imagens de Gatos: \", y_teste.count(0))"
      ],
      "execution_count": 19,
      "outputs": [
        {
          "output_type": "stream",
          "text": [
            "Montando dataset de testes\n",
            "\n",
            "Quantidade de Entradas:  139\n",
            "Quantidade de Imagens de Cachorros:  79\n",
            "Quantidade de Imagens de Gatos:  60\n"
          ],
          "name": "stdout"
        }
      ]
    },
    {
      "cell_type": "code",
      "metadata": {
        "id": "NLumfxdqAu3S",
        "colab_type": "code",
        "outputId": "80d2bcc9-fbc9-4da2-b3fb-c53fd06f007b",
        "colab": {
          "base_uri": "https://localhost:8080/",
          "height": 102
        }
      },
      "source": [
        "# Contabilizando o numero de dados para entrada e saida da rede \n",
        "print(\"Entrada RNA: \", len(x_treino))\n",
        "print(\"Saída RNA: \", len(y_treino))\n",
        "print()\n",
        "print(\"Entrada Testes: \", len(x_teste))\n",
        "print(\"Saida Testes: \", len(y_teste))"
      ],
      "execution_count": 20,
      "outputs": [
        {
          "output_type": "stream",
          "text": [
            "Entrada RNA:  852\n",
            "Saída RNA:  852\n",
            "\n",
            "Entrada Testes:  139\n",
            "Saida Testes:  139\n"
          ],
          "name": "stdout"
        }
      ]
    },
    {
      "cell_type": "code",
      "metadata": {
        "id": "gmXtMlBTJFkq",
        "colab_type": "code",
        "outputId": "3d419a33-6100-45d6-ea7b-0514cba59025",
        "colab": {
          "base_uri": "https://localhost:8080/",
          "height": 34
        }
      },
      "source": [
        "im = ler_imagem(caminho+'/treino/train/'+treino[0])\n",
        "print(im.shape)"
      ],
      "execution_count": 21,
      "outputs": [
        {
          "output_type": "stream",
          "text": [
            "(1, 64, 64, 1)\n"
          ],
          "name": "stdout"
        }
      ]
    },
    {
      "cell_type": "markdown",
      "metadata": {
        "id": "gwAro6brkvTZ",
        "colab_type": "text"
      },
      "source": [
        "### 3. Construindo o modelo de aprendizado com Redes Neurais Convolucionais \n",
        "\n",
        "Como foi dito no inicio deste artigo, toda pessoa precisa **aprender** o que são gatos e cachorros para diferencia-los. Para permitir que um computador possa fazer isso, utilizamos um recurso conhecido como **Redes Neurais Artificais** (também chamadas de RNA) que são modelos computacionais e matematicos baseado no funcionamento de **Redes Neurais Biologicas**, pois são elas que fazem o ser humano aprender e memorizar informações. Para conhecer um pouco mais sobre o funcionamento delas, recomendo uma leitura: https://medium.com/ensina-ai/redes-neurais-roots-1-introdu%C3%A7%C3%A3o-ffdd6f8b9f01\n",
        "\n",
        "Existem diversos tipos de RNA, mas a que foi utilizada aqui foram as **convolucionais**, que por conta de sua arquitetura são as mais utilizadas na classificação de imagens. \n",
        "\n",
        "A arquitetura basica de qualquer rede neural é composta por uma camada de entrada, camadas ocultas de processamento de dados e uma camada de saída,  considerando ainda que podem existir _n_ quantidade de neurônios.\n",
        "\n",
        "![alt text](data:image/jpeg;base64,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)\n",
        "\n",
        "Uma CNN é dividida em duas partes: uma é responsável por extrair as cacateristicas da imagem e a outra é a rede neural em si. Inicialmente, a matriz de pixels da imagem passará por um processo de _Kernel_, que nada mais é do que reduzir a matriz de pixels do tamanho original. \n",
        "\n",
        "![alt text](https://raw.githubusercontent.com/cleuton/FaceGuard/master/CNN/images/convolucao.jpg)\n",
        "\n",
        "Em seguida, essa matriz passa pelo _Padding_, fazendo com que a matriz reduzida mantenha as mesmas dimensões da imagem original. \n",
        "\n",
        "A próxima etapa é o _Pooling_, que tem o objetivo de diminuit as dimensões da imagem a fim de reduzir a quantidade de informações que a rede irá processar. \n",
        "\n",
        "![alt text](https://miro.medium.com/max/565/1*zXF0FNzzLaxN9zwA8efGww.jpeg)\n",
        "\n",
        "_Fonte da Imagem: http://cs231n.github.io/convolutional-networks/_\n",
        "\n",
        "Como foi dito, uma CNN é divida em duas partes (processo de extração de caracteristicas e a rede neural), portanto, a camada que separa essas duas partes é conhecida como _Flatten_, que converte a nossa matriz em um vetor. \n",
        "\n",
        "![alt text](https://miro.medium.com/max/953/1*_Cb1dzBhciwRi9y1-J6qjQ.png)\n",
        "\n",
        "_Fonte da Imagem_: https://www.superdatascience.com/blogs/convolutional-neural-networks-cnn-step-3-flattening\n",
        "\n",
        "Todas as etapas listadas até aqui serviram para **preparar a imagem** para entrara na camada de entrada da rede neural para seja possível ocorrer o seu **aprendizado**.  \n"
      ]
    },
    {
      "cell_type": "code",
      "metadata": {
        "id": "TDfiIoysJHuO",
        "colab_type": "code",
        "colab": {}
      },
      "source": [
        "def conv3x3(input_x,nb_filters):\n",
        "    # Prepara a camada convolucional\n",
        "    return Conv2D(nb_filters, kernel_size=(3,3), use_bias=False,\n",
        "               activation='relu', padding=\"same\")(input_x)"
      ],
      "execution_count": 0,
      "outputs": []
    },
    {
      "cell_type": "code",
      "metadata": {
        "id": "i-U4hhXyJKM0",
        "colab_type": "code",
        "colab": {
          "base_uri": "https://localhost:8080/",
          "height": 173
        },
        "outputId": "8f0856bb-e469-4ec1-e77e-701b1c9d3aae"
      },
      "source": [
        "# Normaliza os valores dos pixels, sendo representados em uma faixa de 0 a 1\n",
        "x_treino = x_treino.astype('float32')\n",
        "x_teste = x_teste.astype('float32')\n",
        "x_treino /= 255.0\n",
        "x_teste /= 255.0\n",
        "\n",
        "# Converte os rótulos para \"One-hot encoding\": \n",
        "y_treino = keras.utils.to_categorical(y_treino, nb_class)\n",
        "y_teste = keras.utils.to_categorical(y_teste, nb_class)\n",
        "\n",
        "# Cria o modelo executando um treino e avaliação:\n",
        "inputs = Input(shape=(img_h, img_w, 1))\n",
        "x = conv3x3(inputs, 32)\n",
        "x = conv3x3(x, 32)\n",
        "x = MaxPooling2D(pool_size=(2,2))(x) \n",
        "x = conv3x3(x, 64)\n",
        "x = conv3x3(x, 64)\n",
        "x = MaxPooling2D(pool_size=(2,2))(x) \n",
        "x = conv3x3(x, 128)\n",
        "x = MaxPooling2D(pool_size=(2,2))(x) \n",
        "x = Flatten()(x)\n",
        "x = Dense(128, activation=\"relu\")(x)\n",
        "preds = Dense(nb_class, activation='softmax')(x)\n",
        "model = Model(inputs=inputs, outputs=preds)"
      ],
      "execution_count": 23,
      "outputs": [
        {
          "output_type": "stream",
          "text": [
            "WARNING:tensorflow:From /usr/local/lib/python3.6/dist-packages/keras/backend/tensorflow_backend.py:66: The name tf.get_default_graph is deprecated. Please use tf.compat.v1.get_default_graph instead.\n",
            "\n",
            "WARNING:tensorflow:From /usr/local/lib/python3.6/dist-packages/keras/backend/tensorflow_backend.py:541: The name tf.placeholder is deprecated. Please use tf.compat.v1.placeholder instead.\n",
            "\n",
            "WARNING:tensorflow:From /usr/local/lib/python3.6/dist-packages/keras/backend/tensorflow_backend.py:4432: The name tf.random_uniform is deprecated. Please use tf.random.uniform instead.\n",
            "\n",
            "WARNING:tensorflow:From /usr/local/lib/python3.6/dist-packages/keras/backend/tensorflow_backend.py:4267: The name tf.nn.max_pool is deprecated. Please use tf.nn.max_pool2d instead.\n",
            "\n"
          ],
          "name": "stdout"
        }
      ]
    },
    {
      "cell_type": "code",
      "metadata": {
        "id": "FmogL4sz5EYV",
        "colab_type": "code",
        "colab": {
          "base_uri": "https://localhost:8080/",
          "height": 105
        },
        "outputId": "2800b1f1-ffcf-4dd0-e4c1-b9d8a123955e"
      },
      "source": [
        "model.compile(loss=keras.losses.categorical_crossentropy,\n",
        "              optimizer=keras.optimizers.Adam(),\n",
        "              metrics=['accuracy'])"
      ],
      "execution_count": 24,
      "outputs": [
        {
          "output_type": "stream",
          "text": [
            "WARNING:tensorflow:From /usr/local/lib/python3.6/dist-packages/keras/optimizers.py:793: The name tf.train.Optimizer is deprecated. Please use tf.compat.v1.train.Optimizer instead.\n",
            "\n",
            "WARNING:tensorflow:From /usr/local/lib/python3.6/dist-packages/keras/backend/tensorflow_backend.py:3576: The name tf.log is deprecated. Please use tf.math.log instead.\n",
            "\n"
          ],
          "name": "stdout"
        }
      ]
    },
    {
      "cell_type": "markdown",
      "metadata": {
        "id": "mIGeskQ3k8dc",
        "colab_type": "text"
      },
      "source": [
        "### 3. Treinamento da CNN e avaliação de desepenho "
      ]
    },
    {
      "cell_type": "code",
      "metadata": {
        "id": "GSQ8N6-J5JuA",
        "colab_type": "code",
        "outputId": "b601e07c-5b48-469f-bf8c-0ab0a0008b4d",
        "colab": {
          "base_uri": "https://localhost:8080/",
          "height": 1000
        }
      },
      "source": [
        "# Cria um callback para salvar o modelo a cada \"epoch\" de treinamento completada: \n",
        "callback = ModelCheckpoint('dogs_cats_saved.h5')\n",
        "\n",
        "# Treina o modelo (demora cerca de 6 minutos sem GPU):\n",
        "history = model.fit(x_treino, y_treino,\n",
        "          batch_size=batch_sz,\n",
        "          epochs=nb_epochs,\n",
        "          verbose=1,\n",
        "          validation_data=(x_teste, y_teste), \n",
        "          callbacks=[callback])\n",
        "\n",
        "# Avalia o modelo com dados de teste:\n",
        "score = model.evaluate(x_teste, y_teste, verbose=0)\n",
        "print('Perda:', score[0])\n",
        "print('Acurácia:', score[1])\n",
        "\n",
        "# Plota gráficos de perda e acurácia: \n",
        "plt.plot(history.history['acc'])\n",
        "plt.plot(history.history['val_acc'])\n",
        "plt.title('Acurácia do modelo')\n",
        "plt.ylabel('Acurácia')\n",
        "plt.xlabel('epoch')\n",
        "plt.legend(['train', 'test'], loc='upper left')\n",
        "plt.show()\n",
        "\n",
        "plt.plot(history.history['loss'])\n",
        "plt.plot(history.history['val_loss'])\n",
        "plt.title('Perda do modelo')\n",
        "plt.ylabel('loss')\n",
        "plt.xlabel('epoch')\n",
        "plt.legend(['train', 'test'], loc='upper left')\n",
        "plt.show()"
      ],
      "execution_count": 25,
      "outputs": [
        {
          "output_type": "stream",
          "text": [
            "WARNING:tensorflow:From /usr/local/lib/python3.6/dist-packages/tensorflow_core/python/ops/math_grad.py:1424: where (from tensorflow.python.ops.array_ops) is deprecated and will be removed in a future version.\n",
            "Instructions for updating:\n",
            "Use tf.where in 2.0, which has the same broadcast rule as np.where\n",
            "WARNING:tensorflow:From /usr/local/lib/python3.6/dist-packages/keras/backend/tensorflow_backend.py:1033: The name tf.assign_add is deprecated. Please use tf.compat.v1.assign_add instead.\n",
            "\n",
            "WARNING:tensorflow:From /usr/local/lib/python3.6/dist-packages/keras/backend/tensorflow_backend.py:1020: The name tf.assign is deprecated. Please use tf.compat.v1.assign instead.\n",
            "\n",
            "WARNING:tensorflow:From /usr/local/lib/python3.6/dist-packages/keras/backend/tensorflow_backend.py:3005: The name tf.Session is deprecated. Please use tf.compat.v1.Session instead.\n",
            "\n",
            "Train on 852 samples, validate on 139 samples\n",
            "Epoch 1/10\n",
            "WARNING:tensorflow:From /usr/local/lib/python3.6/dist-packages/keras/backend/tensorflow_backend.py:190: The name tf.get_default_session is deprecated. Please use tf.compat.v1.get_default_session instead.\n",
            "\n",
            "WARNING:tensorflow:From /usr/local/lib/python3.6/dist-packages/keras/backend/tensorflow_backend.py:197: The name tf.ConfigProto is deprecated. Please use tf.compat.v1.ConfigProto instead.\n",
            "\n",
            "WARNING:tensorflow:From /usr/local/lib/python3.6/dist-packages/keras/backend/tensorflow_backend.py:207: The name tf.global_variables is deprecated. Please use tf.compat.v1.global_variables instead.\n",
            "\n",
            "WARNING:tensorflow:From /usr/local/lib/python3.6/dist-packages/keras/backend/tensorflow_backend.py:216: The name tf.is_variable_initialized is deprecated. Please use tf.compat.v1.is_variable_initialized instead.\n",
            "\n",
            "WARNING:tensorflow:From /usr/local/lib/python3.6/dist-packages/keras/backend/tensorflow_backend.py:223: The name tf.variables_initializer is deprecated. Please use tf.compat.v1.variables_initializer instead.\n",
            "\n",
            "852/852 [==============================] - 19s 23ms/step - loss: 0.6077 - acc: 0.7054 - val_loss: 0.7871 - val_acc: 0.4317\n",
            "Epoch 2/10\n",
            "852/852 [==============================] - 18s 21ms/step - loss: 0.6085 - acc: 0.7336 - val_loss: 0.7393 - val_acc: 0.4317\n",
            "Epoch 3/10\n",
            "852/852 [==============================] - 18s 21ms/step - loss: 0.6045 - acc: 0.7336 - val_loss: 0.8695 - val_acc: 0.4317\n",
            "Epoch 4/10\n",
            "852/852 [==============================] - 18s 21ms/step - loss: 0.5859 - acc: 0.7336 - val_loss: 0.8916 - val_acc: 0.4317\n",
            "Epoch 5/10\n",
            "852/852 [==============================] - 18s 21ms/step - loss: 0.5592 - acc: 0.7336 - val_loss: 1.3167 - val_acc: 0.4317\n",
            "Epoch 6/10\n",
            "852/852 [==============================] - 18s 21ms/step - loss: 0.5623 - acc: 0.7336 - val_loss: 0.8522 - val_acc: 0.4317\n",
            "Epoch 7/10\n",
            "852/852 [==============================] - 18s 21ms/step - loss: 0.5351 - acc: 0.7336 - val_loss: 0.9961 - val_acc: 0.4317\n",
            "Epoch 8/10\n",
            "852/852 [==============================] - 18s 21ms/step - loss: 0.5143 - acc: 0.7371 - val_loss: 1.1481 - val_acc: 0.4388\n",
            "Epoch 9/10\n",
            "852/852 [==============================] - 18s 21ms/step - loss: 0.4991 - acc: 0.7559 - val_loss: 1.2314 - val_acc: 0.4460\n",
            "Epoch 10/10\n",
            "852/852 [==============================] - 18s 21ms/step - loss: 0.4805 - acc: 0.7664 - val_loss: 0.9635 - val_acc: 0.4388\n",
            "Perda: 0.9635226565728084\n",
            "Acurácia: 0.43884892086330934\n"
          ],
          "name": "stdout"
        },
        {
          "output_type": "display_data",
          "data": {
            "image/png": "[encoded data removed]",
            "text/plain": [
              "<Figure size 432x288 with 1 Axes>"
            ]
          },
          "metadata": {
            "tags": []
          }
        },
        {
          "output_type": "display_data",
          "data": {
            "image/png": "[encoded data removed]",
            "text/plain": [
              "<Figure size 432x288 with 1 Axes>"
            ]
          },
          "metadata": {
            "tags": []
          }
        }
      ]
    },
    {
      "cell_type": "markdown",
      "metadata": {
        "id": "lq8Z7zAAmMxM",
        "colab_type": "text"
      },
      "source": [
        "### 3.Validação do Modelo"
      ]
    },
    {
      "cell_type": "markdown",
      "metadata": {
        "id": "b2dQ8iwI6CCo",
        "colab_type": "text"
      },
      "source": [
        "Para validar a rede treinada, é possível baixar qualquer imagem do google em sua máquina e depois extra-la com a execução da célula abaixo: "
      ]
    },
    {
      "cell_type": "code",
      "metadata": {
        "id": "BrsnmVsEzBJv",
        "colab_type": "code",
        "outputId": "229f8a3d-db60-4159-cb5f-63c4257089e4",
        "colab": {
          "resources": {
            "http://localhost:8080/nbextensions/google.colab/files.js": {
              "data": "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",
              "ok": true,
              "headers": [
                [
                  "content-type",
                  "application/javascript"
                ]
              ],
              "status": 200,
              "status_text": ""
            }
          },
          "base_uri": "https://localhost:8080/",
          "height": 111
        }
      },
      "source": [
        "from google.colab import files\n",
        "files.upload()  #Selecione a imagem que deseja classificar "
      ],
      "execution_count": 27,
      "outputs": [
        {
          "output_type": "display_data",
          "data": {
            "text/html": [
              "\n",
              "     <input type=\"file\" id=\"files-5f9c60fa-efa1-4aad-8bc5-e9532f0d2975\" name=\"files[]\" multiple disabled />\n",
              "     <output id=\"result-5f9c60fa-efa1-4aad-8bc5-e9532f0d2975\">\n",
              "      Upload widget is only available when the cell has been executed in the\n",
              "      current browser session. Please rerun this cell to enable.\n",
              "      </output>\n",
              "      <script src=\"/nbextensions/google.colab/files.js\"></script> "
            ],
            "text/plain": [
              "<IPython.core.display.HTML object>"
            ]
          },
          "metadata": {
            "tags": []
          }
        },
        {
          "output_type": "stream",
          "text": [
            "Saving gato.jpg to gato.jpg\n"
          ],
          "name": "stdout"
        },
        {
          "output_type": "execute_result",
          "data": {
            "text/plain": [
              "{'gato.jpg': b'\\xff\\xd8\\xff\\xe0\\x00\\x10JFIF\\x00\\x01\\x01\\x00\\x00\\x01\\x00\\x01\\x00\\x00\\xff\\xdb\\x00\\x84\\x00\\t\\x06\\x07\\x12\\x12\\x10\\x12\\x10\\x10\\x12\\x15\\x15\\x10\\x15\\x10\\x10\\x15\\x15\\x15\\x10\\x15\\x10\\x15\\x10\\x10\\x15\\x15\\x15\\x16\\x16\\x15\\x15\\x15\\x15\\x18\\x1d( \\x18\\x1a%\\x1b\\x15\\x15!1!%)+...\\x17\\x1f383,7(-.+\\x01\\n\\n\\n\\x0e\\r\\x0e\\x17\\x10\\x10\\x1b-\\x1f\\x1d\\x1d---++-+-+++---------------+-----+----+------------\\xff\\xc0\\x00\\x11\\x08\\x00\\xb8\\x01\\x12\\x03\\x01\"\\x00\\x02\\x11\\x01\\x03\\x11\\x01\\xff\\xc4\\x00\\x1c\\x00\\x00\\x01\\x05\\x01\\x01\\x01\\x00\\x00\\x00\\x00\\x00\\x00\\x00\\x00\\x00\\x00\\x05\\x01\\x02\\x03\\x04\\x06\\x00\\x07\\x08\\xff\\xc4\\x00;\\x10\\x00\\x01\\x03\\x02\\x04\\x03\\x06\\x03\\x06\\x06\\x01\\x05\\x00\\x00\\x00\\x00\\x01\\x00\\x02\\x11\\x03\\x04\\x05\\x12!1AQa\\x06\\x13\"q\\x81\\x912\\xa1\\xb1\\x14#b\\xc1\\xd1\\xe13BR\\x82\\xf0\\xf1\\x15\\x07\\x16Cr\\x92\\xff\\xc4\\x00\\x19\\x01\\x00\\x03\\x01\\x01\\x01\\x00\\x00\\x00\\x00\\x00\\x00\\x00\\x00\\x00\\x00\\x00\\x00\\x01\\x02\\x03\\x04\\x05\\xff\\xc4\\x00#\\x11\\x00\\x02\\x02\\x02\\x02\\x02\\x02\\x03\\x01\\x00\\x00\\x00\\x00\\x00\\x00\\x00\\x00\\x01\\x02\\x11\\x03!\\x121AQ\\x13\"2a\\x81\\x04\\xff\\xda\\x00\\x0c\\x03\\x01\\x00\\x02\\x11\\x03\\x11\\x00?\\x00\\xf4\\xc0\\x9c\\x9a\\x13\\x90!R\\xa4J\\x80\\x15r\\xe5\\r\\xcd\\xc0`\\x92\\x80\\'\\\\\\x847\\x1cl\\xea\\xd3\\x1c\\xc2%op\\xd7\\x8c\\xcc \\x8f\\xa2\\x95$\\xfae8\\xb5\\xd9,.\\x84\\xab\\x95\\x08V\\xa5+\\x9a\\xb8\\xa0CJ\\x8e\\x14\\x851\\x03\\x16\\x17BU\\xc8\\x01\\x17BU\\xc9\\x00\\xd4\\x90\\x9c\\x91\\x004\\x84\\x89\\xc5\\x02\\xc5\\xb1\\xd0\\xcf\\r=O>\\ne%\\x15l\\xa8\\xc5\\xc9\\xd2\\x0c\\x92\\x91b\\x8fh*\\x87I29-m\\x85\\xc8\\xa8\\xc0\\xf1\\xc4)\\x86E.\\x8a\\x94\\x1c{\\'!4\\xa7\\x94\\xd2\\xac\\x81\\x854\\xa7\\x94\\xd2\\x80\\x18BiO)\\xa5\\x03#)\\xa5HS\\n\\x00\\x8c\\xa6\\x10\\xa5)\\x84 \\x06.J\\xb9\\x00\\x16\\xa6\\xf9R!vW2\\x116:SD\\x8eJ\\x91*b\\x15f\\xbbKy\\x0e\\x0c\\xe8\\xb4\\xab\\t\\xda\\xe7\\x91\\\\\\xfa,\\xb3:\\x89\\xae\\x18\\xdc\\x86\\xb2\\xa4\\xa9\\xad\\xae\\x1fM\\xd9\\x98c\\x9f#\\xe6\\x87X\\xd4\\xe6\\x89\\x06\\xca\\xe4i\\xf6\\x8e\\xca\\xf0\\xcdV\\x1b\\x88\\xb6\\xa8\\xd3G\\r\\xdb\\xfa+\\xab\\x11M\\xeec\\x83\\x9b\\xa1\\x0bS\\x86b-\\xaa\\xdeO\\x1b\\x8f\\xcc.\\x9cY\\xb9i\\xf6r\\xe5\\xc5\\xc7k\\xa0\\x8bW\\x15\\xcd\\\\V\\xe6\\x02\\x14\\xc4\\xf2\\x9a\\x101W%H\\x81\\x1c\\x91*\\xe4\\x0cD\\x85)B\\xf1\\x9c@Sl\\x0f\\x88\\xa8\\x94\\x94U\\xb1\\xc6.N\\x91K\\x1e\\xc4\\xa0da\\xf3?\\x92\\xc9\\xd5\\x92U\\xea\\x9e#.\\xf6\\xe2\\xa0\\xaf\\xb4\\x01\\x01p\\xcaNn\\xd9\\xdf\\x8e**\\x815\\xce\\xab]\\xd8\\xeb\\x8d\\x0b=B\\xc9\\xd5\\x1a\\xad\\x0fdLU\\x8f\\xc2U\\xe2\\xd4\\x90\\xb3G\\xea\\xcd\\x8aB\\x9cSJ\\xed8F\\x94\\xc2\\x9eSJ@0\\xa6\\x94\\xf2\\x9aP1\\x854\\xa7\\x94\\xd2\\x80\\x18S\\nyM(\\x01\\x90\\xb9*\\xe4\\x01\\x9e\\xc1q@\\xe05Z\\x9bK\\x99^+\\x83\\xe2\\xe5\\x84k\\xa2\\xf4L\\x1f\\x15\\x0e\\x03T\\xa2\\xc7$mZ\\xe9OB\\xad\\xae\\xc1W\\xa9\\xd6\\x95fd\\xeb\\x17\\xdb:>0y\\xad\\x98(\\x07k-\\xb30;\\x88YfW\\x13l\\x0e\\xa6\\x8c}\\xb3\\xa2\\x11\\xabj\\xba \\'\\xc2aZ\\xb7\\xad\\x0b\\x96\\'t\\xd0p\\xc1P6\\xa3\\xa9\\xbc9\\xa6!2\\x8b\\x81\\xd9J\\xf1(\\x94|\\xa3$\\xfc\\x1a\\xac+\\x10mV\\xfe!\\xb8W\\x8a\\xc4[U,p-0G\\xf9\\x0bQ\\x87b-\\xa898n\\x17N,\\xbc\\x95>\\xcel\\xb8\\xf8\\xedt^)\\xa15\\xd5\\x9a7!V~#M\\xbb\\xbd\\xa3\\xd4-\\x8c\\x8b\\xab\\x95\\x06\\xe2\\xf4L}\\xe3u\\xea\\x17T\\xc5\\xe8\\x88\\x9a\\x8d\\xd4\\xc0\\xd4n\\x81\\x17\\x97(E\\xd3\\x08\\x90\\xe1\\xee\\x13..\\xda\\xd6\\x97H\\xdb\\xdd\\x03\\xa2,N\\xf8Rl\\xf1\\xe0\\xb2\\x0e\\xae\\xea\\xae.<\\xf7\\xfd\\x131LS;\\xcf\\x13;rUC\\xdct\\x1bq\\\\3\\xc9\\xce_\\xa3\\xb2\\x10\\xe0\\xbfe\\xba\\x95\\x18\\xce2}\\xd5\\x1b\\x9b\\xd2F\\x9b)\\xe4\\x01\\xc2|\\xa5\\x0c\\xbe\\xbc\\x1bf\\x1e\\x91\\xf9&\\xe3\\xa2\\xe2\\xf6GL\\xcb\\x96\\x9b\\xb2m\\xfb\\xdf \\xb36bL\\xad\\x8fdh|o\\xf4F5\\xf6C\\xcc\\xfe\\x8c\\xd2\\x14\\x85)HWa\\xc04\\xa6\\x14\\xf2\\x9aP\\x03\\niN)\\xa5!\\x8d)\\xa5<\\xa6\\x94\\x00\\xc2\\x9aS\\xcaa@\\r\\\\\\x95r\\x00\\xf9\\xc6\\x8d\\xd4-.\\x07\\x8d\\x96\\xc0\\'E\\x8a.S[\\xdc\\x10P\\xd0Y\\xedX^6\\x1d\\x1a\\xad%\\xa5\\xf4\\xf1^+\\x85\\xde\\x9d\\x08+q\\x81\\xe2\\xb3\\x00\\x9dRL\\x1cOH\\xb7\\xaf)\\xd7\\xb4\\x83\\xe9\\x96\\xf4A\\xecn\\xa5\\x19\\xa1RB\\xae\\xd1+L\\xf3\\xcb\\xba>2\\xd3\\xb8*\\xb3I\\x06\\x11\\xbe\\xd5\\xdbd\\xa9\\x9cq\\xd5\\x06\\xa5Zu\\xe2\\xb8^\\x9d\\x1e\\xa2|\\xa2\\x98V\\xd1\\x84\\x89\\x8fUj#\\x8a\\r\\xf6\\xa7\\x93\\xbe\\x9e\\xc1Y\\xa3ZUr\\xb4e\\xc5\\x96\\xae*\\x81\\xbf\\x15\\x19\\xaf\\xe09_\\x91\\xda\\xc3\\x87\\xf2\\x9ej+\\x96\\xe6\\x00\\x14<\\x18$;M\\x07\\xac\\xec\\xb9\\xe4\\xeaZ-%[ \\xb7u|\\xc5\\xb5\\xabL\\x9f\\x88\\x13.\\xff\\x005@\\xee\\xef\\xddN\\xfb\\xb8>*n\\x00\\t\\'I\\x132\\x8c\\\\\\xd5=\\xd3\\x8b\\x84\\x00\\xe3\\xac\\x80\\xe8\\x10?T\\x12\\xc5\\xb4\\xae.MG<<\\xb5\\xaexkt\\x01\\xa0\\xc4\\xb8\\xf1=\\x16\\xb0\\x93\\xdbfSK\\xa4\\r\\xc4\\x1cu \\xb8\\x19x\\x02w\\x03\\x88Sa\\xf8\\xb3\\xd8\\xca\\x804\\xb9\\xc6\\x98!\\xae$\\xe8\\x7f\\x98(\\xab\\x9c\\xc3y\"\\xb3\\xc3A\\x89p{\\xa0zA(\\x95\\x88\\x15[U\\xe0ek\\\\\\x18\\xc8\\x10\\\\\\x1a\\x0c\\xfdO\\xb2\\xd5\\xca\\x96\\xcc\\xd4m\\xe8\\xb9\\x86=\\xd5m\\xda\\xe6\\xd4p\\xa8\\x1b\\xac\\x13\\xa7H\\xe4\\x8da\\x15\\xcd&\\x93R\\xa3\\xaa:4\\x13\\xe1o\\t\\x85\\x86\\xc0o\\x9f\\xdf\\xba\\x9c\\xc0ip\\x01\\xbbHv\\xa5i\\xabU\\xa8\\x1e\\x0cxb\\x1c\\x01\\x86\\x88\\xd6g\\xf3\\xf3X\\xe4RN\\xac\\xd6\\x0e-t2\\xbd\\xd3\\xcdS\\x95\\xa65\\x92v\\x1dI\\xe0\\x8bY\\xdd\\xb4|FO\\x1e\\x03\\xf5({\\xeeC\\x8bC\\x04\\xb4\\xc1\\x8e.<\\xc8\\xf4)\\xcf\\xb7i\\x86\\xea\\\\u0t\\x93\\xd7\\x8ct\\xf7Q\\x17F\\x92\\xd8Z\\xb6)B<M$y!\\x17\\x0f\\xa1P\\xfd\\xdb`\\xf4C\\xaf^\\xd6\\x1c\\xa1\\xd9|\\xa0\\xc7\\xa9\\xd56\\xca\\xa3\\x8b\\xbe)\\xf5+~\\xd11T\\xcd\\x15\\x9d(\\x00\\x05\\xb5\\xc1\\\\)\\xd2\\x03\\x89X\\x1a\\xb7&\\x9bsnQKlU\\xd9G\\x92\\xa8I&Nd\\xdaF\\xe4]\\x84\\xe1\\\\,P\\xc4\\xdd*\\xcd<P\\xadVX\\x9c\\xdf\\x1b5n\\xac\\x14f\\xe0,\\xcd\\\\b8\\xa8\\x062\\t\\xdd?\\x91\\x0b\\x835\\xbd\\xf0]\\xde\\x05\\x98\\x18\\xa7T\\xe6b\\xe3\\x9a\\x14\\xd083I\\x9c.\\x94\\x05\\xb8\\x98\\xe6\\xae[\\xdf\\x02\\xae\\xd14\\x11)\\x85#jJT\\xc0E\\xcb\\x97 \\x0f\\x97\\x8aD\\xa55\\x04\\x97\\xf0\\xeb\\x92\\xd7-\\xa6\\x19[g\\x05\\xe7\\xf4\\xcc\\x15\\xae\\xc0\\xae4\\nd\\x8b\\x81\\xe98=\\xe4\\x80\\xb5\\x16u\\xd7\\x9ea\\xb5\\xf2\\x9e\\x8bY\\x87\\xddl\\x94d9D^\\xd5P\\xcc\\xfaft\\x03U\\x95\\xbe\\xb8h0\\xdf\\x92\\xd8b\\xad\\xce\\xdf\\xed^s{L\\xb5\\xf1\\xd5r\\xe5\\xfc\\xce\\xdf\\xf3\\xb5\\xc3a;v\\x1a\\xba\\x02\\x8b\\xda\\xdb\\xf7`\\xfej\\x0c\\n\\x90\\xca\\x0cx\\x95\\xbb\\xc7L\\x80|\\xd62\\x93\\x1be[\\xda\\xa7\\xe1h\\xd7\\x9f)U\\x85\\xb6\\x84<\\xe6~\\xb0x\\x08?\\t\\xf7\\xf9\\xa4\\xb9\\xc4;\\xb7\\xe5\\xc8|\\xf8\\x14C\\x06kj\\x07Kt:\\xfa\\xfe\\xaa\\x1034\\xeb\\x9f\\xb4<\\xd2\\xdfq\\xff\\x00\\xd7\\xee\\n\\x0b\\xd9\\xab>\\xe2\\xfc\\xd3\\xa9\\xa1}7\\x06\\xf5$\\x02=\\x82\\xb9M\\xe6\\x9e2)\\xb7F\\xb9\\xd0Dhd\\x13?\\xbf\\x9a+\\xdb\\xabCN\\xa5\\x0b\\xa6hYT\\x02bt$\\r|\\xfcAn\\xbe\\xae\\xbd\\xa3&\\xd4\\xbf\\x86c\\x14q.pw\\xc6\\xca\\xe7A\\xa46[\\x1bu\\x00\\xfb\\xa2XMr\\xca\\x175\\x1d\\x05\\x8d\\xa8\\xf2\\x00\\xd1\\xdbft\\x8e\\x04f]\\xdaV\\xc5wUh\\x89-i\\x04hK\\x83G\\x0es\\xf2L6\\xa5\\xb8mb\\x0ej\\x8e-/#b\\x0c6|\\x8bG\\xcdh\\xd5\\xa4B\\xec\\x1b\\xd9\\xbb\\'\\x90\\xfb\\x9e\\x00\\x93\\xe7\\xb9>\\x8bAiv^\\xe71\\xba\\xb8\\xe5\\x19x\\x8d\\x01q\\xe9\\xfb\\x15=\\xa5&\\xb2\\xc3A\\xff\\x00\\x89\\xfbN\\x9am\\xeeP\\xdf\\xfa\\\\\\xc3V\\xbdg\\xbfS\\x13\\xea\\xe9\\x98Y\\xbf\\xbf)z4\\xfcRAJ\\xf6\\xad>\\x16\\x18\\xd0\\x12F\\xee\\xd7o-??$\\xa6\\xd7\\t.\\x907\\x98\\xe0\\xaec\\xae\\x87\\xe4\\xa4\\xd2y\\xe5\\x1a\\xc4\\xf3\\xe5\\xa0U^I$\\xbc@\\x9d\\x01\\xd3\\xfc\\xfd\\x16L\\xd26\\x0e\\xbe\\xc3\\x8b\\xe0\\xec7\\x9e*\\x85\\x9dL\\x8f#\\xaa9\\xde\\xcc\\x82O\\x9e\\xb1\\xafU\\x9b\\xac\\xc2\\xda\\x84m\\xaf\\xa9ZBW\\xa66\\xabf\\xc6\\xc0w\\xb4\\xcc\\xed\\n\\x95;\\xe0\\x0c)\\xb0\\xfb\\x90\\xda\\x07\\xc9g.\\xd8A\\xd18\\xd3ddf\\xa6\\x9d\\xe3J\\x9d\\xb5\\xc1\\xd8\\xac];\\x87\\x0e*\\xc5+\\xf2\\x0e\\xa5S\\xc6g\\xcc\\xd4V\\x12\\x15!\\xa1U\\xe8\\xe2 \\x8d\\xd4\\xc1\\xd9\\x92J\\x80\\xb5\\xde\\x18T\\xde\\xf3;\\xab-QVhStRD-\\xbbp\\xe2\\x8ca\\xb8\\x9f\\x02\\x82\\xd4\\xa5;&\\xdb\\xc8*\\x94\\x84\\xe2o\\xad\\xafg\\x8a!F\\xe4\\x15\\x8c\\xb5\\xb8 n\\xafQ\\xc4\\xa3r\\xb6\\x86OfR\\x81\\xab\\xefB\\xe5\\x9d\\xff\\x00\\x94\\x1c\\xd7-y#>,\\xf0\"W&\\x9d\\xd2\\x82\\xb43\\x1c\\x16\\x83\\x03\\xa9\\x0b<\\x11\\x9c%\\xf0\\xa6]\\x15\\x1e\\xcd\\xad\\xa5M\\x11\\x9c:\\xfa\\x0c,\\xd5\\x9d]\\x15\\xc6\\xd4\\xe2\\xb0\\xba7\\xab7\\x1fi\\xcc\\xcd\\xd6_\\x1c\\xb4%\\xc0\\xb7\\x9a\\xb1\\x87\\xde\\xce\\x92\\x8b:\\xd8\\x12\\x16Y\\x9fM\\x17\\x8bZ!\\xc3)e`\\x93\\xac+\\x96\\x96\\xf9\\x8e\\xa3_\\x9a\\x8e\\xa5fSas\\xc8\\r\\xe6\\xed\\x94l\\xb8{\\xe9=\\xf4I\\x004\\x90\\xe2408\\x0e+\\x9fm\\x9a\\x16q\\x16\\xd0\\xa63U\\xa8\\xc6\\x0e%\\xe4\\x04:\\xcb\\x1b\\xb0k\\xc6[\\x9abLj@i>\\xab\\x1b\\x81\\xe1f\\xfa\\xa3\\xab\\\\\\xd6:U-\\xf1I\\x0c\\x03s\\t\\x97\\x98u&\\xdf\\xd4\\xb2k\\x83\\xd8\\xca,vv\\xec]\\x95\\xaep\\xf2\\xf1\\xc7\\xa2\\xe8\\xf8\\x957\\xe8\\xc1\\xe5\\xddY\\xb2\\xc6\\xfb+\\xdf]\\xd1\\xbc\\xa2@!\\xcd.\\x88\\x87\\x00F\\xa0\\x8e\\x92\\xacv\\xc6\\xd4Te6\\x9e5\\x98c\\xfa\\xb2\\x92c\\xdaP\\xce\\xce\\xdf\\xfd\\x86\\xa5*.q6\\xb5\\\\\\x1a\\xcc\\xc7\\xf8\\x0f;\\x01\\xf8I1\\x1c\\x0f\\xaa\\xd8c\\xb6!\\xf4\\xf3\\r\\xdaC\\x87B8\\xfdT=\\xabE\\xc5\\xeff\\x1e\\xf6\\xc8\\xbc70\\x83\\x1f\\t\\x1f\\xccCd\\xfaI\\xf6Le\\xbbE\\x103h\\xd2\\x08\\xfe\\x92\\xd6\\xba@\\xeat\\x07\\xcc\\x05\\xa0\\xb9\\xa3 s#\\x96\\xdai\\xa780\\x81b`\\x1anh\\x1bA\\x12d\\x9c\\xb2<\\xb6\\xca\\x8b-l\\xea,\\x15m2\\xd2\\xe2\\xc8\\x13\\xb0$A\\x9fYV\\xfb%aK\\x0f\\xb7}J\\xefk\\x0b\\xc8\\x97\\x13\\x1c\\xe1\\xa3\\xf4R\\xe1\\xd4\\x83(5\\xe6\\x00\\r.<\\x00\\xe2\\x7f5\\x8c\\xbf\\xbe\\xfb`\\xadZ\\xa3\\xdc20}\\x9e\\x90i!\\xd2\\xe1\\x9aN\\xcd\\x86\\xc9<\\xcc\\x0e\\x08\\xc6\\x9b\\x7f\\xa1di#][\\xb5\\x96Nyl\\xb9\\x83\\xfa\\xcb\\x1d\\x07\\xfb\\xb6\\x01LhP\\xac31\\xc1\\xc0\\x7fLG\\xa9\\x1a\\xaf8\\xec\\xebE@g_\\x14{\\x85e\\x98{\\xe9_\\xb2\\x8d\\x17\\xb9\\x99\\xda\\xd2r\\x9d\\x81\\x9e\\x1e\\x8a\\xa5\\x8d[\\x8f\\x92!\\x91\\xf6i\\xafh\\xe5|\\x01\\xef(\\x16%n\\\\\\xec\\xc1\\x11\\xc6MKxu@\\xe7\\xb3\\x8b\\xdb\\xc3\\xcc*\\x95\\xee\\x18\\xe66\\xab\\x0f-\\x16\\x11Ml\\xeam=\\r\\xef\\x08`)\\x1dT\\x15\\xd5*\\x02\\xc3\\xd4{ \\xa2\\xb9\\xcd\\x0bx+F3t\\xcb\\xd4\\xcf\\x8e\\x15\\x9cB\\x80\\r\\x944U\\x87\\x02\\xae]\\\\KU\\xbb\\xb4f\\x92\\xa6S\\xb7\\xacAF\\xadn\\xd0{KbJ\\xb7V\\xd9\\xcd\\xd9T\\xa9\\x92\\xac4\\xcb\\x94\\xa5\\xc8E\\xadR4(\\xbd\\x07\\x02\\x162Tk\\x16\\'{\\t\\xec\\xa8\\n\\x82\\xe8!Un\\x8bJ\\\\lw]\\x9av\\xd4\\x10\\xaa\\xdcT3\\xa2\\x13k\\x88\\xce\\x8a\\xf9\\xad!\\t4\\x1ac\\xfb\\xd7s\\\\\\xa3\\xefBT\\xed\\x8a\\x91\\xe6n\\xdf\\xd5\"R\\x91w\\x9c\"\\x82\\xafYV\\x82\\xa8\\'5\\xc8\\x1af\\xba\\xce\\xed\\x13\\xa5q+\\x1birvZ<=\\x84\\xac\\'\\x1a6\\x84\\xac;eW\\xc6\\xdf0\\xb6\\x81\\xdfw+\\x17gm\\xb2\\xd5\\xd3\\xa9\\xe0\\x01a3U\\xd8\\x1a\\xfc\\xb6\\xadzl\\xa9\\xfc6\\x0c\\xce\\x0e\\x88&tZ\\xfc6\\xb3\\x1e\\xde\\xecDe\\x88\\x1bB\\xc62\\x91\\xabV\\xb3\\x86\\xc3M71\\xac+\\xb6t\\xdd\\x1d\\xed:n\\x02\\x04\\x99\"H\\xfc%\\'\\xaa\\x1dY\\x9d\\xbc\\x0e\\xc3\\xaej\\xb5\\xc0\\xf7O|\\x826 \\xf9q\\xff\\x009\\'\\xd9\\xb6\\x9b\\xee\\x1dr\\xd74\\xe7`\\x04\\xc8\\xd0\\r\\xfd\\xc0o\\xb2\\xdaU\\xabJ\\xb5<\\x974\\xf3\\x0f\\xc4\\x01\\xf6C\\xed\\xbb\\x15`_\\x98R\\xcd\\xac\\xc3\\x9c\\xe2\\xd1\\xd2&\\x15<\\x89\\x99\\xbc[\\xb3\\x1b\\xda\\xdcQ\\xaf\\xa9N\\x9d/\\x10\\xa6e\\xc4| \\xee\\x04\\xf0+\\xd5{;\\x7f\\xde\\xe1\\xf4jT>3E\\xb9\\x8f3\\x10O\\xbe\\xab;\\xdaL&\\x93)\\x061\\x8dkF\\xa1\\xad\\x10\\xde\\x92\\x06\\xfeI\\xf65\\xcb(2\\x90\\xda\\x00\\xeb\\x01C\\xc8\\x948\\xd1\\xa4p\\xf9/\\xd7x\"\\x06\\xdf8Y\\xbcE\\x9b\\xf2\\xdb\\x87\\xb2+R\\xb6m\\xb8 W\\xbaL\\xcc\\x19\\x9f\\xd5cf\\xf1\\x8d\\x17\\xb1J\\xd3\\x86U\\xee\\xf5=\\xcb\\x86\\x9b\\x8d\\x17\\x9da\\x17\\x86\\x9eW=\\xa42c1\\x07!\\xf5\\xd9j\\xedo\\x8b\\x03\\x98ua\\x99\\x07b\\x0e\\xea\\xdfd\\x8b`\\xd3p\\x04qk\\x80!\\xdc&9\\xada>1\\xa6\\x88\\x9e+v\\x05\\xb1\\xba\\xb6\\xa2I\\x0f\\x10IvV\\xc9:\\xf0\\x03\\xe8\\x11\\x9e\\xceY\\xbe\\xad\\xcb\\xef\\xaa\\xb0\\xb5\\xa4E6\\xbbp\\xd0 |\\xbe\\xa8\\xf5K+Jg0\\xb7\\xa7\\x9b\\x9bX\\xc0v\\x94/\\x15\\xc6<9X\\xcfBG\\xa8\\xd3d9\\xdf]\\x91\\x1cu\\xd9\\xdd\\xa3\\xc5i\\x86\\x96@26:\\x93<aa\\xcb\\r7\\x8e\\x14\\xce\\xa0p\\xd5\\x13}\\xbdJ\\x8e-\\x0c\\xd4\\xfcN\\xe5\\xd0J\\xeb\\xeb2\\xdaC>\\xae\\x1buN-G^\\xcaj\\xff\\x00\\x83\\x18Aa\\x94\\x02\\xa3\\xa1\\xc7\\xcd_\\xadw\\xa0\\x8d\\x0f\\x10\\x85W~\\xab\\\\qh\\x8c\\x92\\xb2\\xcb\\x9f*\\xc5\\x0e\\xaa\\x85\\x17\\xab\\x0eq\\x85l\\x84\\x16\\xa5|\\xd6\\xe8\\xac\\xb6\\xf49\\x07\\xb3\\xb5\\x93\\'\\xe6\\x8a\\xb6\\xc7E\\x94\\x9cQqR%{G\\x05\\xd4.`\\xc2\\xaa\\xf2\\xe6\\xe8UN\\xff\\x00\\xc4\\x84\\xacm\\xd0b\\xb5\\xc4\\xa1\\xb7l\\x950*f\\xb2BI\\xd0\\xea\\xc1V\\xed \\xa2f\\xa9\\xca\\x94[\\x85+\\xa9h\\x9f$\\xd9<i\\x14\\xbb\\xe7.R\\xf7a*\\xabD\\xd31\\xa6\\xd5\\xf3\\xb2p\\xb4\\x7f%\\xea\\x7f\\xf6\\xdby\\'7\\xb3\\xcd\\xe4\\xb7\\xf9\\x0c8\\x1eZ,\\x1f\\xc98a\\xcf\\xe4\\xbdY\\x9d\\x9fo%+{>\\xdeH\\xe6\\x1c\\x0f5\\xc2\\xf0w\\x97\\x02B\\xdc\\xe1XT\\x01!\\x1d\\xb6\\xc1\\x80\\xe0\\x8b[Y\\x01\\xc1L\\x9d\\x97\\x15@\\xba\\x18|pR\\\\\\xd2-j8\\xca\\n,B\\xdaX|\\x96r\\x86\\x8bR\\xd9\\x9b\\xec\\xe7\\xf1\\x0c\\r\\rG\\x12\\x8a]\\xd6k\\xea\\x1e\\xe6\\xa0k\\xdb\\xf11\\xdf\\x0b\\xc7.\\x85\\x0c\\xc2j\\xb5\\xad\\xaa\\xff\\x00\\xe8s\\x94\\x98S\\xa9euG\\x80s\\xbb\\x88\\x99X\\xde\\xcd(\\x9a\\xa5mr\\x96\\x90fHsAh\\xf2p\\xd2\\x15\\x868\\xb0O\\xd2?\\xda\\xbbmb\\xcf\\xe4.\\xcaL\\xc6\\xa4zN\\xca\\x0cJ\\xa3Y\\xa0\\x00\\x9e\\x9d9\\x95\\x12*>\\x81\\xf5\\xe9>\\xa6\\xae:\\xf5\\x93\\x94\\x146\\xa6aWRr\\x86@\\x1a\\x81\\xd4\\x92\\x88\\xe1w\\x17\\x0e\\x04\\xbd\\xac \\xbc\\x86\\xe4p\\xd1\\xb3\\xb9\\xfd\\x94]\\xaa\\xa5PS\\x1d\\xdbF\\xa1\\xd3:\\x11\\xc8\\xfdT(\\xb6\\xe8\\xd1\\xc9$V\\xa7R8\\x8e\\x9eQ\\xfe\\xd5K\\xd8 \\x92\\x81Z\\xd6.yi\\xaf.\\x1c\\x1b\\t1\\xca\\xd9\\x183V\\x89\\xd8i\\xaa\\xd7\\xe1\\\\\\xaa\\xc9S|l\\x8b!\\xef\\x01\\x13\\x1f\\t\\xe4\\x8b\\xd1\\xb7{!\\xcc0GR\\n\\x17\\xd9\\xdau\\x1e\\\\\\x08\\x96\\x8e0|G\\xa2\\xb9\\x89\\xdcUhik\\x98\\xd6\\x87\\xc3\\x81\\xd4\\x9e_\\xe9D\\x93\\xe5\\xc4\\xb8\\xb5\\xc6\\xcb\\xd7\\x98\\x93\\xcbd\\x1c\\xa7\\x88@..\\xdd\\x98;\\xba\\xcc\\xd2yI\\x9e\\x9a#\\x18u\\xcb*p$\\x9d4\\x13\\x04}\\x15\\x9a\\xb4\\\\\\xd6\\x10\\xc6\\x1c\\xdc\\t\\xcb1\\xcbtE\\xd7hRW\\xe4\\x0fR\\xee\\xa5&}\\xdd7k\\xab\\x8b\\x84\\x1f \\xab[bf\\xac\\xb6\\xa6\\x87\\x82\"\\xc7T\\r=\\xf0\\xf2\\x9dP\\x8b\\xda \\x90F\\x9f%q\\xa7\\xa6&\\x9a\\xe8\\x15~\\x1a\\xd2r\\xa1\\xaf|\\xab\\x17\\xc4\\xe6 |\\x95c\\xcc\\xae\\xc8\\xad\\x1cs{-\\xd9\\x0e%^c\\x9awCh\\x12D\\x050\\xa5\\xc2TIl\\xb8\\xbd\\x17K\\xf80\\xab\\x14\\x8dp\\xbb\\n\\xb3n\\xf2\\x8c6\\xa8i\\x85\\x8c\\xa5N\\x92\\xb3U\\x1b\\xdb\\xd1N\\x95\\x1a\\x84x\\x82\\x18\\xf6\\xc3\\xd6\\xd2\\x848l\\x80bV$T\\x91\\xb2!;\\xb1J=\\x11\\xd2\\xd8){\\xc8L\"\\x02\\xadR\\xa2Ucn\\x8b\\xc2\\xe1;\\xbe\\x942JZu\\xca\\xae\"\\xe4\\x10\\x95\\xca\\xbf|\\xb9*\\x0b=\\x83\\xec\\xe13\\xec\\xca\\xe3W.\\x9aG=\\x906\\x80\\xe4\\x9e\\xda*YK(\\x01\\xad\\xa4\\x13\\xb2$\\x94\\xa1\\xc8\\x03\\x92\\xb9\\xa0\\x88LyQ\\xb6\\xa2afk\\x19\\xc3\\xfb\\x96V\\xc8\\'8\\'\\xd5E\\x83XM&\\n\\xdaq\\xf1;/\\xb0\\xdc\\xad]\\xc0\\x0fl\\x1d\\xf9\\xf2Y\\xba\\xb6\\r\\xa2\\xec\\xee\\x05\\xee\\x9d\\t;,g\\x0f%\\xc6~\\x03\\xd6\\xf6\\xb4\\x80\\xca\\x0bI\\xfcY\\x8a\\xaf}\\x87\\xd2\\xdc\\xd0\\xcd\\xff\\x00\\xabCO]\\xe1\\x0cgiK\\x0e\\x81\\xa1\\xa3\\x90\\xd7\\xdd\\x16\\xb5\\xc7i\\xd5\\x80^\\xa5\\xa5%\\xa1\\xabL\\xa7g\\x86\\xd3\\x19\\x0bhTfC\\x01\\xb2\\x00\\xd4o\\xa1\\x82\\x8e}\\x8d\\xa5\\x99r\\x9f\\xee\\xd4\\xa7\\xdb\\xbb\\x93\\x8cO\\x08)o. \\x1dzqDq\\xf9\\x073\\xcc;w\\x82\\x1a\\x07\\xbf\\xa4\\x04\\t\\x067l\\xc0\\x07\\xdd\\x0e\\xec\\x87f]y\\x17\\x15\\x8f\\xdc\\xb2\\x1a\\'w\\x91\\xa9\\xf4\\xd8-_in%\\x8ea2\\x08\\xf8y\\xfa({;s\\x96\\xdd\\x94\\x81\\x03 \\xf8cQ\\xcbN<V\\xab\\xaa\\x13l%yaI\\x94\\x8b)\\xb4\\xb4i\\xf0hVn\\xb5\\xb50]\\x16\\xeeq/\\x13\\x98\\x88$\\x7f2\\xd5\\xfd\\xa6dt\\x1c\\x15j\\x8c<I\\x8e;\\x05\\xcb(\\xee\\xcd\\xe3-P2\\xda\\x93\\x8e\\x99\\x18\\xcf\\xc3\\x96t\\xeaT\\xcf\\xa5\\x93h\\x03\\xf0\\xb4\\xb7\\xf5L\\xbe\\xc5\\x19DF`N\\xd0N\\xbf3\\x12\\xb3\\x97]\\xa4s\\x9d\\x94Stz\\xb0\\x8fh?4\\xa3\\x8cn{\\x0b]\\\\\\xb0mZ\\x0fWG\\xd0\\x93\\xf2A1\\x1b\\x8a\\xa0\\x13\\x06\\xa7\\x97wP\\x01\\xcc\\x8dH\\xf5\\x01\\\\\\xa4\\xde\\xf0Nw\\x9e\\x95a\\xf1\\xef\\xc3\\xc8\\x95\\x15\\\\2up\\x8eF\\x99\\xd0z\\x1e>\\xca\\xe3\\xc52_&\\x8c}[\\xb0L\\xba\\x8bGV\\xe6k\\xbeF>J\\xa5g\\xb1\\xdc\\\\\\x0f\\xe2\\xd7\\xe6?E\\xb2\\xb9\\xc2\\xe7x\\x7fS\\xe1\\xa9\\xef\\xc7\\xd6P\\x0cC\\t\\x02H\\x07M\\xf4\\x877\\xccr\\xea>K\\xa23\\x8b9\\xe5\\x06\\x81\\xd4\\xa5\\xbdG1\\xa8V\\x19\\x0e:\\xaa\\xcdnS\\xa1!_\\xb5\\xa5\\x9bX\\xf5\\x1b\\x14\\xe7\\xecp\\xb7\\xa0\\xa6\\x1a\\x00\\xd1\\xa2J\\xbfV\\x9b\\xc9\\x01\\x8d\\x9ee&\\x1bi\\x94f;\\x9d\\x82$\\xda\\xc4\\r\\xb6\\xe4\\xb9%-\\xe8\\xe8Q\\xd6\\xc9\\xacm\\xea\\x01\\xe2\\xf6O\\xb9\\xb1\\xcd\\xaf\\x15Q\\xb5\\xea=\\xe2>\\x1e\\x87u3\\xad\\\\\\xe6\\xc0y\\x04:D\\x03\\xacl\\t\\xe4\\xa7h`\\xeb\\xbc6\\xa7$4Y:u\\x95\\xaa\\xa7{N\\x98\\x0c\\xb8pc\\xfa\\x9f\\x8b\\xcb\\x9a\\xb0\\xeaTI\\x1e6\\xc9\\xdaH\\x04\\xaa\\x8c\\xdf\\xa14\\x8c\\xbd<8\\x94\\xa3\\t<\\x96\\xce\\x9e\\x1c:+4\\xf0\\xf1\\xc9Z\\xb6Kh\\xc2\\xff\\x00\\xc59*\\xdf\\x7f\\xc7\\xb7\\x92U\\\\Y6\\x83\\xa0\\x14\\xb9Js\\x14\\xb0\\xba\\x0ch\\xad\\x05v\\xa9\\xceJ\\x12\\xb0\\xa1\\xba\\xa4\\x92\\xa6\\x01(j,(\\xacILV\\xcd\\x10\\x9ai\\r\\x93\\xb1QM\\xc4\\xf0UnA#T\\\\P\\t\\xcd\\xa0\\xce^\\xe8\\n1w6\\x03_\\x0e\\x88U\\xde\\x1e\\xe8\\xc9K0\\x9d\\xf2\\x83.\\xe9\\xd0/M\\x14\\x87 \\xa2\\xa9N5\\x1a(qE&\\xccwg\\xdbwDe\\xc8\\xe77M\\x1d\\x02\\x06\\xbbJ\\xd0\\xd5\\xb7\\xce%\\xeesLj\\xd9\\xd3\\xe4\\xad\\xbb\\xa2\\xaf\\\\\\xf3\\n\\x97D\\xb05\\xce\\x047\\x04je#p\\xa6\\xb6`\\xee\\xae\\xd6\\xa5\\xa1\\xca\\xe2\\xd3\\xf2B+6\\xb3t\\x0f\\'\\xcdD\\x9d\\x1a-\\x96jd\\xa6$\\xba4\\xe7\\xf9 \\x18\\xa6>L\\xb6\\x9f-\\xcaZ\\xf4\\x9cg6\\xa7\\xaa\\x1dZ\\x87E\\x9f#E\\x10yf\\xb9\\x9d.i\\xe0\\xedKgX\\xea>\\xbd\\x0e\\xd3\\xe6\\xe0\\x04\\x8e\\x03\\x88\\xf2)r\\x90\\x91\\xb4\\xce\\xd1\\xa7\\xd3\\xc9KvRT\\\\\\xb1w\\x19\\xfdU\\xfc\\xfe\\xea\\x8d\\xbd\\xab\\xa6x\\xfdQZ8]C\\xa8i\\x8e\\xab6\\xad\\xe8\\xbb\\xae\\xca\\x8fh?\\xe6\\x8a\\xb5K\\\\\\xdf\\xbf\\x0f.H\\xfd<\\x19\\xdcU\\xb6a\\x11\\xbaj2%\\xca\\'\\x9f\\xe2X\\x0c\\x82\\xe6\\x88<G\\x03\\xd4~\\x8a\\xbe\\x1a\\x056\\x96\\xb8k<W\\xa3\\xd4\\xc2\\xd6w\\x16\\xec\\xe3\\x89\\x96{r\\xf2Z\\xabj\\x99\\x0e\\x96\\xd1\\r\\x8b\\xc1\\x13\\xc3\\xe8\\xaf\\xdc\\x165\\xbe\"\\x00(-\\x9e\\x1ft\\xc7\\xe5\\xee\\x9c\\xe6\\xce\\xe0)\\xfbS\\x86Wu\\x11\\x96\\x9b\\xc9k\\x81\\x80\\x0c\\xac\\xfe&\\xa4\\x83\\xe4N%\\xac1\\xcci\\xcb3\\xa82y\\x14[\\xba\\x0e\\x07\\x88#i \\x8f%\\x94\\xb5\\xef@\\xa54\\x9e\\xd2ZZ\\xef\\t\\x9d8\\xad=\\xb5\\\\\\xac\\x82\\xd3\\xb0\\xe0T\\xce\\rH\\xa8\\xc98\\x81{]i\\x9a\\x83j\\x81\\xad7\\x07N\\x93\\x97c*\\x95\\x95\\x01t\\xd3E\\xe7\\xc4\\x00,\\xa87\\xe8\\x8e2\\x89\\xabB\\xa0y\\x80\\xe7\\xbc\\x0e\\x81f\\xacp\\xca\\xeeshR\\x12\\xf0\\\\\\xc2\\xed\\x86N\\x0e\\'\\x82\\xdf\\x1a\\xf0e\\'\\xe4\\xd2\\xf6\\x7f\\x11!\\x86\\x8dS\\xf7\\xd4\\x9cZ\\xe9\\xe2\\x06\\xc7\\xca!j-\\xeb\\x82\\x02\\x15m\\xd8\\x96\\xe6\\x15*Vy\\xab\\x94\\x07\\x16\\xe8\\x1cG\\x1dw\\xfd\\x91\\xcb|!\\xac\\x8f\\x111\\xce\\x15pi\\xe8\\\\\\x93[\\x1d\\x98%VE.\\x81r\\xbab\\xb1\\xec:\\xa9\\xe5UaS\\x07!\\x08\\xe2\\x13\\x98\\x9aJI@\\x13\\xa4!1\\xaeR\\x02\\x80\\x10$r\\x92\\x14o\\x08\\x01\\x03\\x92\\xe6P\\x92\\x9c\\xd2\\x90\\xcbL)\\x1c\\xd9Q\\xd3*T\\xc4S\\xa8\\xd8L\\xcd:\\x15j\\xb3eTs\\x14\\xb1\\xa2\\xbdZ \\xf9\\xf4P:\\xdd\\x12m4\\xff\\x00\\xb3\\x84S\\x18\\x12\\xa6\\x1c\\x0f\\x05\\x11\\xc0AZ,\\x81qG\\x14\\x16\\xcc\\xeb{6\\xde![\\xa3\\x80S\\x1c\\x11R\\xe4\\xad(\\xe3\\x10\\xe4\\xca\\x94\\xb0\\xdam\\xd9\\xaa\\xc3Z\\x14\\xa5DJ}\\x0b\\xb3\\x9dHpL\\x85+R\\xc2\\x00\\x844\\'\\xb6\\x90\\xe4\\x9f\\x95+B\\x00AI%Js\\xbf\\x158HB\\xa2JF\\x9cl\\x9c\\xd7\\x03\\xb8S\\xb9\\xaa\\'\\x05%\\x1d\\xdd\\xb7\\x90\\xf6\\\\(\\x01\\xb0\\x03\\xc8B\\xe0S\\xf3\\xa6!\\xb9\\nB\\xd2\\x9e\\x1e\\x972b\"\\xd5r\\x92W \\x08\\x02\\x90\\x14\\x8b\\x94\\x8crU\\xcb\\x90\\x02\\x84\\xf6\\x95\\xcb\\x90\\x04\\x81\\xc9\\xae\\\\\\xb90\"sR\\x00\\xb9rC%b\\x94\\x15\\xcb\\x93B8\\xa8\\xcbW.C\\x03\\xa54\\xbdr\\xe4\\x86F\\\\\\x93:\\xe5\\xc9X\\xce\\x94\\xa0\\xae\\\\\\x80\\x14\\x94\\xc2\\xd5\\xcb\\x90!X\\xa4\\x01*\\xe4\\xc0T\\x8b\\x97&!AN\\x0e\\\\\\xb9\\x16\\x07\\x14\\xc71r\\xe4\\xc4DZ\\x98W.I\\x8cPS\\x82\\xe5\\xc9\\x01\\xcb\\x97.L\\x0f\\xff\\xd9'}"
            ]
          },
          "metadata": {
            "tags": []
          },
          "execution_count": 27
        }
      ]
    },
    {
      "cell_type": "code",
      "metadata": {
        "id": "85_QgQAMmTgr",
        "colab_type": "code",
        "outputId": "d0a3f4ff-29ba-43a7-e17d-846db31339a6",
        "colab": {
          "base_uri": "https://localhost:8080/",
          "height": 466
        }
      },
      "source": [
        "def prepararImagem(imagem):\n",
        "    test_image = image.img_to_array(imagem.T)\n",
        "    test_image = np.expand_dims(test_image, axis = 0)    \n",
        "    return test_image\n",
        "\n",
        "def mostraCateg(resultado):\n",
        "    categs = [\"Gato\", \"Cachorro\"]\n",
        "    for idx, val in enumerate(resultado[0]):\n",
        "        if val == 1:\n",
        "            return categs[idx]\n",
        "\n",
        "im = cv2.imread(\"gato.jpg\") #Copie o nome da imagem a ser classificada \n",
        "gray = cv2.cvtColor(im, cv2.COLOR_BGR2GRAY) #Converte para escala cinza \n",
        "imres = cv2.resize(gray, (img_h, img_w), interpolation=cv2.INTER_CUBIC) #Reconfigura o tamanho da imagem para o mesmo utilizado no treinamento \n",
        "dados = prepararImagem(imres)\n",
        "cv2_imshow(im)\n",
        "plt.axis('off')\n",
        "ret = model.predict(dados, batch_size=1) #Insere a imagem no modelo \n",
        "print()\n",
        "print(\"Classificação da Rede:\", mostraCateg(ret)) #Mostra o resultado obtido pela rede "
      ],
      "execution_count": 28,
      "outputs": [
        {
          "output_type": "display_data",
          "data": {
            "image/png": "[encoded data removed]",
            "text/plain": [
              "<PIL.Image.Image image mode=RGB size=274x184 at 0x7F02D4E939E8>"
            ]
          },
          "metadata": {
            "tags": []
          }
        },
        {
          "output_type": "stream",
          "text": [
            "\n",
            "Classificação da Rede: Gato\n"
          ],
          "name": "stdout"
        },
        {
          "output_type": "display_data",
          "data": {
            "image/png": "[encoded data removed]",
            "text/plain": [
              "<Figure size 432x288 with 1 Axes>"
            ]
          },
          "metadata": {
            "tags": []
          }
        }
      ]
    },
    {
      "cell_type": "markdown",
      "metadata": {
        "id": "NBF4hiF2h2N4",
        "colab_type": "text"
      },
      "source": [
        "_Referencias_\n",
        "1. https://github.com/cleuton/FaceGuard/blob/master/CNN/DogsCats.ipynb\n",
        "https://towardsdatascience.com/ >> Classificador de Gatos e Cachorros \n",
        "2. https://towardsdatascience.com/downloading-datasets-into-google-drive-via-google-colab-bcb1b30b0166 >> Usuo do google drive para baixar e utilizar o dataset do Kaggle\n",
        "3. https://www.kaggle.com/c/dogs-vs-cats >> Dataset das imagens dos gatos e cachorros  \n",
        "4. https://medium.com/machina-sapiens/google-colab-guia-do-iniciante-334d70aad531 >> Uso do GoogleColab\n",
        "5. https://medium.com/data-hackers/uma-introdu%C3%A7%C3%A3o-as-redes-neurais-convolucionais-utilizando-o-keras-41ee8dcc033e >> Redes Neurais Convolucionais"
      ]
    }
  ]
}